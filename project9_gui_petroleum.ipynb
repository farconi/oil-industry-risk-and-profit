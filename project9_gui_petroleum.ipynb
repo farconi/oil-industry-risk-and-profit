{
 "cells": [
  {
   "cell_type": "markdown",
   "metadata": {},
   "source": [
    "# Risk and Profit Assessment in the Oil Industry"
   ]
  },
  {
   "cell_type": "markdown",
   "metadata": {},
   "source": [
    "## Introduction"
   ]
  },
  {
   "cell_type": "markdown",
   "metadata": {},
   "source": [
    "### Project overview"
   ]
  },
  {
   "cell_type": "markdown",
   "metadata": {},
   "source": [
    "Our focus on this project is to help the mining company Oleobrás find the best location to drill a new oil well. For this, parameters related to oil quality and the volume of reserves in each region will be collected. Then, a model will be built to predict the volume of reserves in the new wells. Based on these forecasts, the wells with the highest estimated values will be selected. Finally, the region that offers the highest total profit considering the selected oil wells will be chosen. The Bootstrapping technique will be used to analyze the potential profit and the risks involved."
   ]
  },
  {
   "cell_type": "markdown",
   "metadata": {},
   "source": [
    "### Project objectives"
   ]
  },
  {
   "cell_type": "markdown",
   "metadata": {},
   "source": [
    "Let's create a Machine Learning model that will help choose the region with the highest profit margin and use the Bootstrapping technique to analyze potential profit and risks."
   ]
  },
  {
   "cell_type": "markdown",
   "metadata": {},
   "source": [
    "### Data description"
   ]
  },
  {
   "cell_type": "markdown",
   "metadata": {},
   "source": [
    "The geological exploration data for the three regions is stored in **three different files**:\n",
    "\n",
    "   * `geo_data_0.csv`\n",
    "   \n",
    "   \n",
    "   * `geo_data_1.csv`\n",
    "   \n",
    "   \n",
    "   * `geo_data_2.csv`\n",
    "   \n",
    "Each file has the same columns, separated into:\n",
    "\n",
    "   * `id`: unique oil well identifier\n",
    "   \n",
    "   \n",
    "   * `f0`, `f1` and `f2`: three point characteristics (their specific meaning is not important, but the characteristics themselves are significant)\n",
    "   \n",
    "   \n",
    "   * `product`: volume of reserves in the oil well (thousands of barrels)."
   ]
  },
  {
   "cell_type": "markdown",
   "metadata": {},
   "source": [
    "## Data preparation"
   ]
  },
  {
   "cell_type": "markdown",
   "metadata": {},
   "source": [
    "### Importing Libraries"
   ]
  },
  {
   "cell_type": "markdown",
   "metadata": {},
   "source": [
    "We will keep here the import of all the necessary libraries for this work:"
   ]
  },
  {
   "cell_type": "code",
   "execution_count": 149,
   "metadata": {},
   "outputs": [],
   "source": [
    "# Importing Libraries\n",
    "import pandas as pd\n",
    "import seaborn as sns\n",
    "import matplotlib.pyplot as plt\n",
    "import numpy as np\n",
    "from sklearn.model_selection import train_test_split\n",
    "from sklearn.linear_model import LinearRegression\n",
    "from sklearn.metrics import mean_squared_error, r2_score"
   ]
  },
  {
   "cell_type": "markdown",
   "metadata": {},
   "source": [
    "### Data collection"
   ]
  },
  {
   "cell_type": "markdown",
   "metadata": {},
   "source": [
    "Let's import the databases so we can analyze and work with them:"
   ]
  },
  {
   "cell_type": "code",
   "execution_count": 150,
   "metadata": {},
   "outputs": [],
   "source": [
    "# Importing the databases\n",
    "df0 = pd.read_csv('/datasets/geo_data_0.csv')\n",
    "df1 = pd.read_csv('/datasets/geo_data_1.csv')\n",
    "df2 = pd.read_csv('/datasets/geo_data_2.csv')"
   ]
  },
  {
   "cell_type": "markdown",
   "metadata": {},
   "source": [
    "### Initial data exploration"
   ]
  },
  {
   "cell_type": "markdown",
   "metadata": {},
   "source": [
    "For each database in each region, we'll view the first rows, their basic information (column names, datatypes and Dataframe size) and compare their initial statistics:"
   ]
  },
  {
   "cell_type": "markdown",
   "metadata": {},
   "source": [
    "#### Exploring `df0`"
   ]
  },
  {
   "cell_type": "code",
   "execution_count": 151,
   "metadata": {},
   "outputs": [
    {
     "data": {
      "text/html": [
       "<div>\n",
       "<style scoped>\n",
       "    .dataframe tbody tr th:only-of-type {\n",
       "        vertical-align: middle;\n",
       "    }\n",
       "\n",
       "    .dataframe tbody tr th {\n",
       "        vertical-align: top;\n",
       "    }\n",
       "\n",
       "    .dataframe thead th {\n",
       "        text-align: right;\n",
       "    }\n",
       "</style>\n",
       "<table border=\"1\" class=\"dataframe\">\n",
       "  <thead>\n",
       "    <tr style=\"text-align: right;\">\n",
       "      <th></th>\n",
       "      <th>id</th>\n",
       "      <th>f0</th>\n",
       "      <th>f1</th>\n",
       "      <th>f2</th>\n",
       "      <th>product</th>\n",
       "    </tr>\n",
       "  </thead>\n",
       "  <tbody>\n",
       "    <tr>\n",
       "      <th>0</th>\n",
       "      <td>txEyH</td>\n",
       "      <td>0.705745</td>\n",
       "      <td>-0.497823</td>\n",
       "      <td>1.221170</td>\n",
       "      <td>105.280062</td>\n",
       "    </tr>\n",
       "    <tr>\n",
       "      <th>1</th>\n",
       "      <td>2acmU</td>\n",
       "      <td>1.334711</td>\n",
       "      <td>-0.340164</td>\n",
       "      <td>4.365080</td>\n",
       "      <td>73.037750</td>\n",
       "    </tr>\n",
       "    <tr>\n",
       "      <th>2</th>\n",
       "      <td>409Wp</td>\n",
       "      <td>1.022732</td>\n",
       "      <td>0.151990</td>\n",
       "      <td>1.419926</td>\n",
       "      <td>85.265647</td>\n",
       "    </tr>\n",
       "    <tr>\n",
       "      <th>3</th>\n",
       "      <td>iJLyR</td>\n",
       "      <td>-0.032172</td>\n",
       "      <td>0.139033</td>\n",
       "      <td>2.978566</td>\n",
       "      <td>168.620776</td>\n",
       "    </tr>\n",
       "    <tr>\n",
       "      <th>4</th>\n",
       "      <td>Xdl7t</td>\n",
       "      <td>1.988431</td>\n",
       "      <td>0.155413</td>\n",
       "      <td>4.751769</td>\n",
       "      <td>154.036647</td>\n",
       "    </tr>\n",
       "  </tbody>\n",
       "</table>\n",
       "</div>"
      ],
      "text/plain": [
       "      id        f0        f1        f2     product\n",
       "0  txEyH  0.705745 -0.497823  1.221170  105.280062\n",
       "1  2acmU  1.334711 -0.340164  4.365080   73.037750\n",
       "2  409Wp  1.022732  0.151990  1.419926   85.265647\n",
       "3  iJLyR -0.032172  0.139033  2.978566  168.620776\n",
       "4  Xdl7t  1.988431  0.155413  4.751769  154.036647"
      ]
     },
     "execution_count": 151,
     "metadata": {},
     "output_type": "execute_result"
    }
   ],
   "source": [
    "# Viewing the first lines of 'df0'\n",
    "df0.head()"
   ]
  },
  {
   "cell_type": "code",
   "execution_count": 152,
   "metadata": {},
   "outputs": [
    {
     "name": "stdout",
     "output_type": "stream",
     "text": [
      "<class 'pandas.core.frame.DataFrame'>\n",
      "RangeIndex: 100000 entries, 0 to 99999\n",
      "Data columns (total 5 columns):\n",
      " #   Column   Non-Null Count   Dtype  \n",
      "---  ------   --------------   -----  \n",
      " 0   id       100000 non-null  object \n",
      " 1   f0       100000 non-null  float64\n",
      " 2   f1       100000 non-null  float64\n",
      " 3   f2       100000 non-null  float64\n",
      " 4   product  100000 non-null  float64\n",
      "dtypes: float64(4), object(1)\n",
      "memory usage: 3.8+ MB\n",
      "Number of duplicates: 0\n"
     ]
    }
   ],
   "source": [
    "# Analyzing the number of columns and their names, data types, missing values and number of rows\n",
    "df0.info()\n",
    "print('Number of duplicates:', df0.duplicated().sum())"
   ]
  },
  {
   "cell_type": "code",
   "execution_count": 153,
   "metadata": {},
   "outputs": [
    {
     "data": {
      "text/html": [
       "<div>\n",
       "<style scoped>\n",
       "    .dataframe tbody tr th:only-of-type {\n",
       "        vertical-align: middle;\n",
       "    }\n",
       "\n",
       "    .dataframe tbody tr th {\n",
       "        vertical-align: top;\n",
       "    }\n",
       "\n",
       "    .dataframe thead th {\n",
       "        text-align: right;\n",
       "    }\n",
       "</style>\n",
       "<table border=\"1\" class=\"dataframe\">\n",
       "  <thead>\n",
       "    <tr style=\"text-align: right;\">\n",
       "      <th></th>\n",
       "      <th>f0</th>\n",
       "      <th>f1</th>\n",
       "      <th>f2</th>\n",
       "      <th>product</th>\n",
       "    </tr>\n",
       "  </thead>\n",
       "  <tbody>\n",
       "    <tr>\n",
       "      <th>count</th>\n",
       "      <td>100000.000000</td>\n",
       "      <td>100000.000000</td>\n",
       "      <td>100000.000000</td>\n",
       "      <td>100000.000000</td>\n",
       "    </tr>\n",
       "    <tr>\n",
       "      <th>mean</th>\n",
       "      <td>0.500419</td>\n",
       "      <td>0.250143</td>\n",
       "      <td>2.502647</td>\n",
       "      <td>92.500000</td>\n",
       "    </tr>\n",
       "    <tr>\n",
       "      <th>std</th>\n",
       "      <td>0.871832</td>\n",
       "      <td>0.504433</td>\n",
       "      <td>3.248248</td>\n",
       "      <td>44.288691</td>\n",
       "    </tr>\n",
       "    <tr>\n",
       "      <th>min</th>\n",
       "      <td>-1.408605</td>\n",
       "      <td>-0.848218</td>\n",
       "      <td>-12.088328</td>\n",
       "      <td>0.000000</td>\n",
       "    </tr>\n",
       "    <tr>\n",
       "      <th>25%</th>\n",
       "      <td>-0.072580</td>\n",
       "      <td>-0.200881</td>\n",
       "      <td>0.287748</td>\n",
       "      <td>56.497507</td>\n",
       "    </tr>\n",
       "    <tr>\n",
       "      <th>50%</th>\n",
       "      <td>0.502360</td>\n",
       "      <td>0.250252</td>\n",
       "      <td>2.515969</td>\n",
       "      <td>91.849972</td>\n",
       "    </tr>\n",
       "    <tr>\n",
       "      <th>75%</th>\n",
       "      <td>1.073581</td>\n",
       "      <td>0.700646</td>\n",
       "      <td>4.715088</td>\n",
       "      <td>128.564089</td>\n",
       "    </tr>\n",
       "    <tr>\n",
       "      <th>max</th>\n",
       "      <td>2.362331</td>\n",
       "      <td>1.343769</td>\n",
       "      <td>16.003790</td>\n",
       "      <td>185.364347</td>\n",
       "    </tr>\n",
       "  </tbody>\n",
       "</table>\n",
       "</div>"
      ],
      "text/plain": [
       "                  f0             f1             f2        product\n",
       "count  100000.000000  100000.000000  100000.000000  100000.000000\n",
       "mean        0.500419       0.250143       2.502647      92.500000\n",
       "std         0.871832       0.504433       3.248248      44.288691\n",
       "min        -1.408605      -0.848218     -12.088328       0.000000\n",
       "25%        -0.072580      -0.200881       0.287748      56.497507\n",
       "50%         0.502360       0.250252       2.515969      91.849972\n",
       "75%         1.073581       0.700646       4.715088     128.564089\n",
       "max         2.362331       1.343769      16.003790     185.364347"
      ]
     },
     "execution_count": 153,
     "metadata": {},
     "output_type": "execute_result"
    }
   ],
   "source": [
    "# Analyzing the initial statistics of 'df0'\n",
    "df0.describe()"
   ]
  },
  {
   "cell_type": "markdown",
   "metadata": {},
   "source": [
    "#### Exploring `df1`"
   ]
  },
  {
   "cell_type": "code",
   "execution_count": 154,
   "metadata": {},
   "outputs": [
    {
     "data": {
      "text/html": [
       "<div>\n",
       "<style scoped>\n",
       "    .dataframe tbody tr th:only-of-type {\n",
       "        vertical-align: middle;\n",
       "    }\n",
       "\n",
       "    .dataframe tbody tr th {\n",
       "        vertical-align: top;\n",
       "    }\n",
       "\n",
       "    .dataframe thead th {\n",
       "        text-align: right;\n",
       "    }\n",
       "</style>\n",
       "<table border=\"1\" class=\"dataframe\">\n",
       "  <thead>\n",
       "    <tr style=\"text-align: right;\">\n",
       "      <th></th>\n",
       "      <th>id</th>\n",
       "      <th>f0</th>\n",
       "      <th>f1</th>\n",
       "      <th>f2</th>\n",
       "      <th>product</th>\n",
       "    </tr>\n",
       "  </thead>\n",
       "  <tbody>\n",
       "    <tr>\n",
       "      <th>0</th>\n",
       "      <td>kBEdx</td>\n",
       "      <td>-15.001348</td>\n",
       "      <td>-8.276000</td>\n",
       "      <td>-0.005876</td>\n",
       "      <td>3.179103</td>\n",
       "    </tr>\n",
       "    <tr>\n",
       "      <th>1</th>\n",
       "      <td>62mP7</td>\n",
       "      <td>14.272088</td>\n",
       "      <td>-3.475083</td>\n",
       "      <td>0.999183</td>\n",
       "      <td>26.953261</td>\n",
       "    </tr>\n",
       "    <tr>\n",
       "      <th>2</th>\n",
       "      <td>vyE1P</td>\n",
       "      <td>6.263187</td>\n",
       "      <td>-5.948386</td>\n",
       "      <td>5.001160</td>\n",
       "      <td>134.766305</td>\n",
       "    </tr>\n",
       "    <tr>\n",
       "      <th>3</th>\n",
       "      <td>KcrkZ</td>\n",
       "      <td>-13.081196</td>\n",
       "      <td>-11.506057</td>\n",
       "      <td>4.999415</td>\n",
       "      <td>137.945408</td>\n",
       "    </tr>\n",
       "    <tr>\n",
       "      <th>4</th>\n",
       "      <td>AHL4O</td>\n",
       "      <td>12.702195</td>\n",
       "      <td>-8.147433</td>\n",
       "      <td>5.004363</td>\n",
       "      <td>134.766305</td>\n",
       "    </tr>\n",
       "  </tbody>\n",
       "</table>\n",
       "</div>"
      ],
      "text/plain": [
       "      id         f0         f1        f2     product\n",
       "0  kBEdx -15.001348  -8.276000 -0.005876    3.179103\n",
       "1  62mP7  14.272088  -3.475083  0.999183   26.953261\n",
       "2  vyE1P   6.263187  -5.948386  5.001160  134.766305\n",
       "3  KcrkZ -13.081196 -11.506057  4.999415  137.945408\n",
       "4  AHL4O  12.702195  -8.147433  5.004363  134.766305"
      ]
     },
     "execution_count": 154,
     "metadata": {},
     "output_type": "execute_result"
    }
   ],
   "source": [
    "# Viewing the first lines of 'df1'\n",
    "df1.head()"
   ]
  },
  {
   "cell_type": "code",
   "execution_count": 155,
   "metadata": {},
   "outputs": [
    {
     "name": "stdout",
     "output_type": "stream",
     "text": [
      "<class 'pandas.core.frame.DataFrame'>\n",
      "RangeIndex: 100000 entries, 0 to 99999\n",
      "Data columns (total 5 columns):\n",
      " #   Column   Non-Null Count   Dtype  \n",
      "---  ------   --------------   -----  \n",
      " 0   id       100000 non-null  object \n",
      " 1   f0       100000 non-null  float64\n",
      " 2   f1       100000 non-null  float64\n",
      " 3   f2       100000 non-null  float64\n",
      " 4   product  100000 non-null  float64\n",
      "dtypes: float64(4), object(1)\n",
      "memory usage: 3.8+ MB\n",
      "Number of duplicates: 0\n"
     ]
    }
   ],
   "source": [
    "# Analyzing the number of columns and their names, data types, missing values and number of rows\n",
    "df1.info()\n",
    "print('Number of duplicates:', df1.duplicated().sum())"
   ]
  },
  {
   "cell_type": "code",
   "execution_count": 156,
   "metadata": {
    "scrolled": true
   },
   "outputs": [
    {
     "data": {
      "text/html": [
       "<div>\n",
       "<style scoped>\n",
       "    .dataframe tbody tr th:only-of-type {\n",
       "        vertical-align: middle;\n",
       "    }\n",
       "\n",
       "    .dataframe tbody tr th {\n",
       "        vertical-align: top;\n",
       "    }\n",
       "\n",
       "    .dataframe thead th {\n",
       "        text-align: right;\n",
       "    }\n",
       "</style>\n",
       "<table border=\"1\" class=\"dataframe\">\n",
       "  <thead>\n",
       "    <tr style=\"text-align: right;\">\n",
       "      <th></th>\n",
       "      <th>f0</th>\n",
       "      <th>f1</th>\n",
       "      <th>f2</th>\n",
       "      <th>product</th>\n",
       "    </tr>\n",
       "  </thead>\n",
       "  <tbody>\n",
       "    <tr>\n",
       "      <th>count</th>\n",
       "      <td>100000.000000</td>\n",
       "      <td>100000.000000</td>\n",
       "      <td>100000.000000</td>\n",
       "      <td>100000.000000</td>\n",
       "    </tr>\n",
       "    <tr>\n",
       "      <th>mean</th>\n",
       "      <td>1.141296</td>\n",
       "      <td>-4.796579</td>\n",
       "      <td>2.494541</td>\n",
       "      <td>68.825000</td>\n",
       "    </tr>\n",
       "    <tr>\n",
       "      <th>std</th>\n",
       "      <td>8.965932</td>\n",
       "      <td>5.119872</td>\n",
       "      <td>1.703572</td>\n",
       "      <td>45.944423</td>\n",
       "    </tr>\n",
       "    <tr>\n",
       "      <th>min</th>\n",
       "      <td>-31.609576</td>\n",
       "      <td>-26.358598</td>\n",
       "      <td>-0.018144</td>\n",
       "      <td>0.000000</td>\n",
       "    </tr>\n",
       "    <tr>\n",
       "      <th>25%</th>\n",
       "      <td>-6.298551</td>\n",
       "      <td>-8.267985</td>\n",
       "      <td>1.000021</td>\n",
       "      <td>26.953261</td>\n",
       "    </tr>\n",
       "    <tr>\n",
       "      <th>50%</th>\n",
       "      <td>1.153055</td>\n",
       "      <td>-4.813172</td>\n",
       "      <td>2.011479</td>\n",
       "      <td>57.085625</td>\n",
       "    </tr>\n",
       "    <tr>\n",
       "      <th>75%</th>\n",
       "      <td>8.621015</td>\n",
       "      <td>-1.332816</td>\n",
       "      <td>3.999904</td>\n",
       "      <td>107.813044</td>\n",
       "    </tr>\n",
       "    <tr>\n",
       "      <th>max</th>\n",
       "      <td>29.421755</td>\n",
       "      <td>18.734063</td>\n",
       "      <td>5.019721</td>\n",
       "      <td>137.945408</td>\n",
       "    </tr>\n",
       "  </tbody>\n",
       "</table>\n",
       "</div>"
      ],
      "text/plain": [
       "                  f0             f1             f2        product\n",
       "count  100000.000000  100000.000000  100000.000000  100000.000000\n",
       "mean        1.141296      -4.796579       2.494541      68.825000\n",
       "std         8.965932       5.119872       1.703572      45.944423\n",
       "min       -31.609576     -26.358598      -0.018144       0.000000\n",
       "25%        -6.298551      -8.267985       1.000021      26.953261\n",
       "50%         1.153055      -4.813172       2.011479      57.085625\n",
       "75%         8.621015      -1.332816       3.999904     107.813044\n",
       "max        29.421755      18.734063       5.019721     137.945408"
      ]
     },
     "execution_count": 156,
     "metadata": {},
     "output_type": "execute_result"
    }
   ],
   "source": [
    "# Analyzing the initial stats of 'df1'\n",
    "df1.describe()"
   ]
  },
  {
   "cell_type": "markdown",
   "metadata": {},
   "source": [
    "#### Exploring `df2`"
   ]
  },
  {
   "cell_type": "code",
   "execution_count": 157,
   "metadata": {},
   "outputs": [
    {
     "data": {
      "text/html": [
       "<div>\n",
       "<style scoped>\n",
       "    .dataframe tbody tr th:only-of-type {\n",
       "        vertical-align: middle;\n",
       "    }\n",
       "\n",
       "    .dataframe tbody tr th {\n",
       "        vertical-align: top;\n",
       "    }\n",
       "\n",
       "    .dataframe thead th {\n",
       "        text-align: right;\n",
       "    }\n",
       "</style>\n",
       "<table border=\"1\" class=\"dataframe\">\n",
       "  <thead>\n",
       "    <tr style=\"text-align: right;\">\n",
       "      <th></th>\n",
       "      <th>id</th>\n",
       "      <th>f0</th>\n",
       "      <th>f1</th>\n",
       "      <th>f2</th>\n",
       "      <th>product</th>\n",
       "    </tr>\n",
       "  </thead>\n",
       "  <tbody>\n",
       "    <tr>\n",
       "      <th>0</th>\n",
       "      <td>fwXo0</td>\n",
       "      <td>-1.146987</td>\n",
       "      <td>0.963328</td>\n",
       "      <td>-0.828965</td>\n",
       "      <td>27.758673</td>\n",
       "    </tr>\n",
       "    <tr>\n",
       "      <th>1</th>\n",
       "      <td>WJtFt</td>\n",
       "      <td>0.262778</td>\n",
       "      <td>0.269839</td>\n",
       "      <td>-2.530187</td>\n",
       "      <td>56.069697</td>\n",
       "    </tr>\n",
       "    <tr>\n",
       "      <th>2</th>\n",
       "      <td>ovLUW</td>\n",
       "      <td>0.194587</td>\n",
       "      <td>0.289035</td>\n",
       "      <td>-5.586433</td>\n",
       "      <td>62.871910</td>\n",
       "    </tr>\n",
       "    <tr>\n",
       "      <th>3</th>\n",
       "      <td>q6cA6</td>\n",
       "      <td>2.236060</td>\n",
       "      <td>-0.553760</td>\n",
       "      <td>0.930038</td>\n",
       "      <td>114.572842</td>\n",
       "    </tr>\n",
       "    <tr>\n",
       "      <th>4</th>\n",
       "      <td>WPMUX</td>\n",
       "      <td>-0.515993</td>\n",
       "      <td>1.716266</td>\n",
       "      <td>5.899011</td>\n",
       "      <td>149.600746</td>\n",
       "    </tr>\n",
       "  </tbody>\n",
       "</table>\n",
       "</div>"
      ],
      "text/plain": [
       "      id        f0        f1        f2     product\n",
       "0  fwXo0 -1.146987  0.963328 -0.828965   27.758673\n",
       "1  WJtFt  0.262778  0.269839 -2.530187   56.069697\n",
       "2  ovLUW  0.194587  0.289035 -5.586433   62.871910\n",
       "3  q6cA6  2.236060 -0.553760  0.930038  114.572842\n",
       "4  WPMUX -0.515993  1.716266  5.899011  149.600746"
      ]
     },
     "execution_count": 157,
     "metadata": {},
     "output_type": "execute_result"
    }
   ],
   "source": [
    "# Viewing the first lines of 'df2'\n",
    "df2.head()"
   ]
  },
  {
   "cell_type": "code",
   "execution_count": 158,
   "metadata": {},
   "outputs": [
    {
     "name": "stdout",
     "output_type": "stream",
     "text": [
      "<class 'pandas.core.frame.DataFrame'>\n",
      "RangeIndex: 100000 entries, 0 to 99999\n",
      "Data columns (total 5 columns):\n",
      " #   Column   Non-Null Count   Dtype  \n",
      "---  ------   --------------   -----  \n",
      " 0   id       100000 non-null  object \n",
      " 1   f0       100000 non-null  float64\n",
      " 2   f1       100000 non-null  float64\n",
      " 3   f2       100000 non-null  float64\n",
      " 4   product  100000 non-null  float64\n",
      "dtypes: float64(4), object(1)\n",
      "memory usage: 3.8+ MB\n",
      "Number of duplicates: 0\n"
     ]
    }
   ],
   "source": [
    "# Analyzing the number of columns and their names, data types, missing values and number of rows\n",
    "df2.info()\n",
    "print('Number of duplicates:', df1.duplicated().sum())"
   ]
  },
  {
   "cell_type": "code",
   "execution_count": 159,
   "metadata": {},
   "outputs": [
    {
     "data": {
      "text/html": [
       "<div>\n",
       "<style scoped>\n",
       "    .dataframe tbody tr th:only-of-type {\n",
       "        vertical-align: middle;\n",
       "    }\n",
       "\n",
       "    .dataframe tbody tr th {\n",
       "        vertical-align: top;\n",
       "    }\n",
       "\n",
       "    .dataframe thead th {\n",
       "        text-align: right;\n",
       "    }\n",
       "</style>\n",
       "<table border=\"1\" class=\"dataframe\">\n",
       "  <thead>\n",
       "    <tr style=\"text-align: right;\">\n",
       "      <th></th>\n",
       "      <th>f0</th>\n",
       "      <th>f1</th>\n",
       "      <th>f2</th>\n",
       "      <th>product</th>\n",
       "    </tr>\n",
       "  </thead>\n",
       "  <tbody>\n",
       "    <tr>\n",
       "      <th>count</th>\n",
       "      <td>100000.000000</td>\n",
       "      <td>100000.000000</td>\n",
       "      <td>100000.000000</td>\n",
       "      <td>100000.000000</td>\n",
       "    </tr>\n",
       "    <tr>\n",
       "      <th>mean</th>\n",
       "      <td>0.002023</td>\n",
       "      <td>-0.002081</td>\n",
       "      <td>2.495128</td>\n",
       "      <td>95.000000</td>\n",
       "    </tr>\n",
       "    <tr>\n",
       "      <th>std</th>\n",
       "      <td>1.732045</td>\n",
       "      <td>1.730417</td>\n",
       "      <td>3.473445</td>\n",
       "      <td>44.749921</td>\n",
       "    </tr>\n",
       "    <tr>\n",
       "      <th>min</th>\n",
       "      <td>-8.760004</td>\n",
       "      <td>-7.084020</td>\n",
       "      <td>-11.970335</td>\n",
       "      <td>0.000000</td>\n",
       "    </tr>\n",
       "    <tr>\n",
       "      <th>25%</th>\n",
       "      <td>-1.162288</td>\n",
       "      <td>-1.174820</td>\n",
       "      <td>0.130359</td>\n",
       "      <td>59.450441</td>\n",
       "    </tr>\n",
       "    <tr>\n",
       "      <th>50%</th>\n",
       "      <td>0.009424</td>\n",
       "      <td>-0.009482</td>\n",
       "      <td>2.484236</td>\n",
       "      <td>94.925613</td>\n",
       "    </tr>\n",
       "    <tr>\n",
       "      <th>75%</th>\n",
       "      <td>1.158535</td>\n",
       "      <td>1.163678</td>\n",
       "      <td>4.858794</td>\n",
       "      <td>130.595027</td>\n",
       "    </tr>\n",
       "    <tr>\n",
       "      <th>max</th>\n",
       "      <td>7.238262</td>\n",
       "      <td>7.844801</td>\n",
       "      <td>16.739402</td>\n",
       "      <td>190.029838</td>\n",
       "    </tr>\n",
       "  </tbody>\n",
       "</table>\n",
       "</div>"
      ],
      "text/plain": [
       "                  f0             f1             f2        product\n",
       "count  100000.000000  100000.000000  100000.000000  100000.000000\n",
       "mean        0.002023      -0.002081       2.495128      95.000000\n",
       "std         1.732045       1.730417       3.473445      44.749921\n",
       "min        -8.760004      -7.084020     -11.970335       0.000000\n",
       "25%        -1.162288      -1.174820       0.130359      59.450441\n",
       "50%         0.009424      -0.009482       2.484236      94.925613\n",
       "75%         1.158535       1.163678       4.858794     130.595027\n",
       "max         7.238262       7.844801      16.739402     190.029838"
      ]
     },
     "execution_count": 159,
     "metadata": {},
     "output_type": "execute_result"
    }
   ],
   "source": [
    "# Analyzing the initial stats of 'df2'\n",
    "df2.describe()"
   ]
  },
  {
   "cell_type": "markdown",
   "metadata": {},
   "source": [
    "#### Comparison between regions"
   ]
  },
  {
   "cell_type": "markdown",
   "metadata": {},
   "source": [
    "Let's plot two graphs that help us visualize the differences between these regions:"
   ]
  },
  {
   "cell_type": "code",
   "execution_count": 160,
   "metadata": {
    "scrolled": false
   },
   "outputs": [
    {
     "data": {
      "image/png": "[encoded data removed]",
      "text/plain": [
       "<Figure size 576x432 with 1 Axes>"
      ]
     },
     "metadata": {
      "needs_background": "light"
     },
     "output_type": "display_data"
    }
   ],
   "source": [
    "# Dataframe with average barrels per region\n",
    "mean_data = pd.DataFrame({\n",
    "    'Region': ['Region 0', 'Region 1', 'Region 2'],\n",
    "    'Average Barrels': [df0['product'].mean(), df1['product'].mean(), df2['product'].mean()],\n",
    "    'Total Sum of Barrels': [df0['product'].sum(), df1['product'].sum(), df2['product'].sum()]\n",
    "})\n",
    "\n",
    "# Chart settings\n",
    "plt.figure(figsize=(8, 6))\n",
    "\n",
    "# Plotting the bar chart\n",
    "sns.barplot(x='Region', y='Average Barrels', data=mean_data)\n",
    "\n",
    "# Adding the annotation with the sum value inside the columns\n",
    "for i, total_sum in enumerate(mean_data['Total Sum of Barrels']):\n",
    "    plt.text(i, mean_data.iloc[i]['Average Barrels']/2, f'Sum: {total_sum:.2f}', ha='center', va='center', color='white', fontsize=12, fontweight='bold')\n",
    "\n",
    "# Additional chart settings\n",
    "plt.title('Average Barrels per oil well in the different Regions')\n",
    "plt.xlabel('Region')\n",
    "plt.ylabel('Average Barrels')\n",
    "\n",
    "# Display the chart\n",
    "plt.tight_layout()\n",
    "plt.show()\n"
   ]
  },
  {
   "cell_type": "markdown",
   "metadata": {},
   "source": [
    "The df0, df1, and df2 datasets share similar characteristics, such as the number of entries (100,000), the presence of columns 'id', 'f0', 'f1', 'f2' and 'product', and the absence of missing values. In addition, all sets have the 'product' column representing the volume of reserves in the oil wells in thousands of barrels.\n",
    "\n",
    "However, there are notable differences between them. In terms of average volume for each well, df0 averages approximately 92.5 thousand barrels, df1 averages approximately 68.82 thousand barrels, and df2 averages approximately 95 thousand barrels per well. These differences in statistics can influence the choice of region with the highest profit margin and risk analysis later in the project."
   ]
  },
  {
   "cell_type": "markdown",
   "metadata": {},
   "source": [
    "### Data cleaning and formatting"
   ]
  },
  {
   "cell_type": "markdown",
   "metadata": {},
   "source": [
    "In this section, we would clean and format the data to prepare it properly for model training.\n",
    "\n",
    "Fortunately, there is no need to change the data types, as they are already in proper formats, and there are no missing values in the df0, df1, and df2 datasets.\n",
    "\n",
    "Although the data types appear correctly for the entire Dataframe, let's check if this holds true for all rows of data:"
   ]
  },
  {
   "cell_type": "code",
   "execution_count": 161,
   "metadata": {},
   "outputs": [
    {
     "name": "stdout",
     "output_type": "stream",
     "text": [
      "Non-numeric values in df0:\n",
      "id    99980\n",
      "dtype: int64\n",
      "\n",
      "Non-numeric values in df1:\n",
      "id    99988\n",
      "dtype: int64\n",
      "\n",
      "Non-numeric values in df2:\n",
      "id    99986\n",
      "dtype: int64\n"
     ]
    }
   ],
   "source": [
    "# Checking non-numeric values in DataFrame df0\n",
    "non_numeric_values_df0 = df0.apply(pd.to_numeric, errors='coerce').isna().sum()\n",
    "non_numeric_values_df0 = non_numeric_values_df0[non_numeric_values_df0 > 0]\n",
    "\n",
    "# Checking non-numeric values in DataFrame df1\n",
    "non_numeric_values_df1 = df1.apply(pd.to_numeric, errors='coerce').isna().sum()\n",
    "non_numeric_values_df1 = non_numeric_values_df1[non_numeric_values_df1 > 0]\n",
    "\n",
    "# Checking non-numeric values in DataFrame df2\n",
    "non_numeric_values_df2 = df2.apply(pd.to_numeric, errors='coerce').isna().sum()\n",
    "non_numeric_values_df2 = non_numeric_values_df2[non_numeric_values_df2 > 0]\n",
    "\n",
    "# Printing the results\n",
    "print(\"Non-numeric values in df0:\")\n",
    "print(non_numeric_values_df0)\n",
    "\n",
    "print(\"\\nNon-numeric values in df1:\")\n",
    "print(non_numeric_values_df1)\n",
    "\n",
    "print(\"\\nNon-numeric values in df2:\")\n",
    "print(non_numeric_values_df2)"
   ]
  },
  {
   "cell_type": "markdown",
   "metadata": {},
   "source": [
    "Apparently, all right. The only column with 'string' values is the `id` and this makes sense as, despite random letters, this field identifies the names of oil wells."
   ]
  },
  {
   "cell_type": "markdown",
   "metadata": {},
   "source": [
    "### Dividing the data into training and validation sets"
   ]
  },
  {
   "cell_type": "markdown",
   "metadata": {},
   "source": [
    "In order to guarantee an adequate division of the data and to correctly evaluate the performance of our model, we will make the separation in a proportion of 75% for the training set and 25% for the validation set, separately for each region.\n",
    "\n",
    "We can follow the following plan:\n",
    "\n",
    "- Let's divide the data from each region into training and validation sets, where 75% of the data will be used for training and 25% for validation.\n",
    "- We will create the df0_train and df0_valid sets for region 0.\n",
    "- We will create the df1_train and df1_valid sets for region 1.\n",
    "- And finally, we will create the df2_train and df2_valid sets for region 2."
   ]
  },
  {
   "cell_type": "code",
   "execution_count": 162,
   "metadata": {
    "scrolled": false
   },
   "outputs": [
    {
     "name": "stdout",
     "output_type": "stream",
     "text": [
      "Size of training sets:\n",
      "\n",
      "df0_features_train: 75000\n",
      "df0_target_train: 75000\n",
      "\n",
      "df1_features_train: 75000\n",
      "df1_target_train: 75000\n",
      "\n",
      "df2_features_train: 75000\n",
      "df2_target_train: 75000\n",
      "\n",
      "\n",
      "Size of validation sets:\n",
      "\n",
      "df0_features_valid: 25000\n",
      "df0_target_valid: 25000\n",
      "\n",
      "df1_features_valid: 25000\n",
      "df1_target_valid: 25000\n",
      "\n",
      "df2_features_valid: 25000\n",
      "df2_target_valid: 25000\n"
     ]
    }
   ],
   "source": [
    "# Splitting data from each region into training and validation sets\n",
    "df0_train, df0_valid = train_test_split(df0, test_size=0.25, random_state=42)\n",
    "df1_train, df1_valid = train_test_split(df1, test_size=0.25, random_state=42)\n",
    "df2_train, df2_valid = train_test_split(df2, test_size=0.25, random_state=42)\n",
    "\n",
    "# Separating the features and the target for region 0\n",
    "df0_features_train = df0_train.drop(\"product\", axis=1)\n",
    "df0_target_train = df0_train[\"product\"]\n",
    "df0_features_valid = df0_valid.drop(\"product\", axis=1)\n",
    "df0_target_valid = df0_valid[\"product\"]\n",
    "\n",
    "# Separating the features and target for region 1\n",
    "df1_features_train = df1_train.drop(\"product\", axis=1)\n",
    "df1_target_train = df1_train[\"product\"]\n",
    "df1_features_valid = df1_valid.drop(\"product\", axis=1)\n",
    "df1_target_valid = df1_valid[\"product\"]\n",
    "\n",
    "# Separating the features and target for region 2\n",
    "df2_features_train = df2_train.drop(\"product\", axis=1)\n",
    "df2_target_train = df2_train[\"product\"]\n",
    "df2_features_valid = df2_valid.drop(\"product\", axis=1)\n",
    "df2_target_valid = df2_valid[\"product\"]\n",
    "\n",
    "# Showing the size of each set\n",
    "print(\"Size of training sets:\")\n",
    "print()\n",
    "print(\"df0_features_train:\", len(df0_features_train))\n",
    "print(\"df0_target_train:\", len(df0_target_train))\n",
    "print()\n",
    "print(\"df1_features_train:\", len(df1_features_train))\n",
    "print(\"df1_target_train:\", len(df1_target_train))\n",
    "print()\n",
    "print(\"df2_features_train:\", len(df2_features_train))\n",
    "print(\"df2_target_train:\", len(df2_target_train))\n",
    "print()\n",
    "print()\n",
    "print(\"Size of validation sets:\")\n",
    "print()\n",
    "print(\"df0_features_valid:\", len(df0_features_valid))\n",
    "print(\"df0_target_valid:\", len(df0_target_valid))\n",
    "print()\n",
    "print(\"df1_features_valid:\", len(df1_features_valid))\n",
    "print(\"df1_target_valid:\", len(df1_target_valid))\n",
    "print()\n",
    "print(\"df2_features_valid:\", len(df2_features_valid))\n",
    "print(\"df2_target_valid:\", len(df2_target_valid))"
   ]
  },
  {
   "cell_type": "markdown",
   "metadata": {},
   "source": [
    "## Model training and testing for each region"
   ]
  },
  {
   "cell_type": "markdown",
   "metadata": {},
   "source": [
    "In this section we will train, evaluate and analyze linear regression models and their results using DataFrames df0, df1 and df2. In this way, we will be able to assess how they behave and make accurate predictions in each geographic context, helping us to choose the region with the highest profit margin."
   ]
  },
  {
   "cell_type": "markdown",
   "metadata": {},
   "source": [
    "### Training and evaluating the regions models"
   ]
  },
  {
   "cell_type": "markdown",
   "metadata": {},
   "source": [
    "#### Linear Regression for `df0`"
   ]
  },
  {
   "cell_type": "code",
   "execution_count": 163,
   "metadata": {
    "scrolled": false
   },
   "outputs": [
    {
     "name": "stdout",
     "output_type": "stream",
     "text": [
      "Linear Regression - Region 0\n",
      "MSE (Mean Squared Error): 1425.5608700093808\n",
      "RMSE (Root Mean Squared Error): 37.756600350261685\n",
      "R2 Score: 0.2728287328173472\n",
      "Average Predicted Volume - Region 0: 92.3987999065777\n",
      "Average validation set volume - Region 0: 92.32595637084387\n"
     ]
    }
   ],
   "source": [
    "# Region 0\n",
    "# Instantiating the linear regression model\n",
    "model_lr_0 = LinearRegression()\n",
    "\n",
    "# Training the model on region 0 training data\n",
    "model_lr_0.fit(df0_features_train.drop(\"id\", axis=1), df0_target_train)\n",
    "\n",
    "# Making predictions on region 0 validation data\n",
    "predictions_lr_0 = model_lr_0.predict(df0_features_valid.drop(\"id\", axis=1))\n",
    "\n",
    "# Evaluating model performance in region 0\n",
    "mse_lr_0 = mean_squared_error(df0_target_valid, predictions_lr_0)\n",
    "rmse_lr_0 = np.sqrt(mse_lr_0)\n",
    "r2_lr_0 = r2_score(df0_target_valid, predictions_lr_0)\n",
    "\n",
    "print(\"Linear Regression - Region 0\")\n",
    "print(\"MSE (Mean Squared Error):\", mse_lr_0)\n",
    "print(\"RMSE (Root Mean Squared Error):\", rmse_lr_0)\n",
    "print(\"R2 Score:\", r2_lr_0)\n",
    "average_predicted_volume_0 = predictions_lr_0.mean()\n",
    "average_validation_volume_0 = df0_target_valid.mean()\n",
    "print(\"Average Predicted Volume - Region 0:\", average_predicted_volume_0)\n",
    "print(\"Average validation set volume - Region 0:\", average_validation_volume_0)"
   ]
  },
  {
   "cell_type": "markdown",
   "metadata": {},
   "source": [
    "#### Linear Regression for `df1`"
   ]
  },
  {
   "cell_type": "code",
   "execution_count": 164,
   "metadata": {
    "scrolled": false
   },
   "outputs": [
    {
     "name": "stdout",
     "output_type": "stream",
     "text": [
      "Linear Regression - Region 1\n",
      "MSE (Mean Squared Error): 0.7925986566392013\n",
      "RMSE (Root Mean Squared Error): 0.890280100102884\n",
      "R2 Score: 0.9996245232002449\n",
      "Average Predicted Volume - Region 1: 68.71287803913762\n",
      "Average validation set volume - Region 1: 68.72538074722745\n"
     ]
    }
   ],
   "source": [
    "# Region 1\n",
    "# Instantiating the linear regression model\n",
    "model_lr_1 = LinearRegression()\n",
    "\n",
    "# Training the model on region 1 training data\n",
    "model_lr_1.fit(df1_features_train.drop(\"id\", axis=1), df1_target_train)\n",
    "\n",
    "# Making predictions on region 1 validation data\n",
    "predictions_lr_1 = model_lr_1.predict(df1_features_valid.drop(\"id\", axis=1))\n",
    "\n",
    "# Evaluating the performance of the model in region 1\n",
    "mse_lr_1 = mean_squared_error(df1_target_valid, predictions_lr_1)\n",
    "rmse_lr_1 = np.sqrt(mse_lr_1)\n",
    "r2_lr_1 = r2_score(df1_target_valid, predictions_lr_1)\n",
    "\n",
    "print(\"Linear Regression - Region 1\")\n",
    "print(\"MSE (Mean Squared Error):\", mse_lr_1)\n",
    "print(\"RMSE (Root Mean Squared Error):\", rmse_lr_1)\n",
    "print(\"R2 Score:\", r2_lr_1)\n",
    "average_predicted_volume_1 = predictions_lr_1.mean()\n",
    "average_validation_volume_1 = df1_target_valid.mean()\n",
    "print(\"Average Predicted Volume - Region 1:\", average_predicted_volume_1)\n",
    "print(\"Average validation set volume - Region 1:\", average_validation_volume_1)"
   ]
  },
  {
   "cell_type": "markdown",
   "metadata": {},
   "source": [
    "#### Linear Regression for `df2`"
   ]
  },
  {
   "cell_type": "code",
   "execution_count": 165,
   "metadata": {
    "scrolled": false
   },
   "outputs": [
    {
     "name": "stdout",
     "output_type": "stream",
     "text": [
      "Linear Regression - Region 2\n",
      "MSE (Mean Squared Error): 1611.6910636385905\n",
      "RMSE (Root Mean Squared Error): 40.14587231134218\n",
      "R2 Score: 0.19634705977280464\n",
      "Average Predicted Volume - Region 2: 94.77102387765939\n",
      "Average validation set volume - Region 2: 95.15099907171961\n"
     ]
    }
   ],
   "source": [
    "# Region 2\n",
    "# Instantiating the linear regression model\n",
    "model_lr_2 = LinearRegression()\n",
    "\n",
    "# Training the model on region 2 training data\n",
    "model_lr_2.fit(df2_features_train.drop(\"id\", axis=1), df2_target_train)\n",
    "\n",
    "# Making predictions on region 2 validation data\n",
    "predictions_lr_2 = model_lr_2.predict(df2_features_valid.drop(\"id\", axis=1))\n",
    "\n",
    "# Evaluating model performance in region 2\n",
    "mse_lr_2 = mean_squared_error(df2_target_valid, predictions_lr_2)\n",
    "rmse_lr_2 = np.sqrt(mse_lr_2)\n",
    "r2_lr_2 = r2_score(df2_target_valid, predictions_lr_2)\n",
    "\n",
    "print(\"Linear Regression - Region 2\")\n",
    "print(\"MSE (Mean Squared Error):\", mse_lr_2)\n",
    "print(\"RMSE (Root Mean Squared Error):\", rmse_lr_2)\n",
    "print(\"R2 Score:\", r2_lr_2)\n",
    "average_predicted_volume_2 = predictions_lr_2.mean()\n",
    "average_validation_volume_2 = df2_target_valid.mean()\n",
    "print(\"Average Predicted Volume - Region 2:\", average_predicted_volume_2)\n",
    "print(\"Average validation set volume - Region 2:\", average_validation_volume_2)"
   ]
  },
  {
   "cell_type": "code",
   "execution_count": 166,
   "metadata": {},
   "outputs": [
    {
     "data": {
      "image/png": "[encoded data removed]",
      "text/plain": [
       "<Figure size 1440x432 with 5 Axes>"
      ]
     },
     "metadata": {
      "needs_background": "light"
     },
     "output_type": "display_data"
    }
   ],
   "source": [
    "# Evaluation metrics\n",
    "mse_values = [mse_lr_0, mse_lr_1, mse_lr_2]\n",
    "rmse_values = [rmse_lr_0, rmse_lr_1, rmse_lr_2]\n",
    "r2_values = [r2_lr_0, r2_lr_1, r2_lr_2]\n",
    "\n",
    "# average volumes\n",
    "predicted_volumes = [average_predicted_volume_0, average_predicted_volume_1, average_predicted_volume_2]\n",
    "validation_volumes = [average_validation_volume_0, average_validation_volume_1, average_validation_volume_2]\n",
    "\n",
    "# Creating the graphics\n",
    "fig, axs = plt.subplots(1, 5, figsize=(20, 6))\n",
    "\n",
    "# MSE\n",
    "axs[0].bar(range(3), mse_values, color=['#FF7F0E', '#1F77B4', '#FFDC00'])\n",
    "axs[0].set_xticks(range(3))\n",
    "axs[0].set_xticklabels(['Region 0', 'Region 1', 'Region 2'])\n",
    "axs[0].set_ylabel('MSE')\n",
    "axs[0].set_title('MSE for each Region')\n",
    "\n",
    "# RMSE\n",
    "axs[1].bar(range(3), rmse_values, color=['#FF7F0E', '#1F77B4', '#FFDC00'])\n",
    "axs[1].set_xticks(range(3))\n",
    "axs[1].set_xticklabels(['Region 0', 'Region 1', 'Region 2'])\n",
    "axs[1].set_ylabel('RMSE')\n",
    "axs[1].set_title('RMSE for each Region')\n",
    "\n",
    "#R2Score\n",
    "axs[2].bar(range(3), r2_values, color=['#FF7F0E', '#1F77B4', '#FFDC00'])\n",
    "axs[2].set_xticks(range(3))\n",
    "axs[2].set_xticklabels(['Region 0', 'Region 1', 'Region 2'])\n",
    "axs[2].set_ylabel('R2 Score')\n",
    "axs[2].set_title('R2 Score for each Region')\n",
    "\n",
    "# Predicted Average Volume\n",
    "axs[3].bar(range(3), predicted_volumes, color=['#FF7F0E', '#1F77B4', '#FFDC00'])\n",
    "axs[3].set_xticks(range(3))\n",
    "axs[3].set_xticklabels(['Region 0', 'Region 1', 'Region 2'])\n",
    "axs[3].set_ylabel('Predicted Average Volume')\n",
    "axs[3].set_title('Predicted Average Volume for each Region')\n",
    "\n",
    "# Average Validation Volume\n",
    "axs[4].bar(range(3), validation_volumes, color=['#FF7F0E', '#1F77B4', '#FFDC00'])\n",
    "axs[4].set_xticks(range(3))\n",
    "axs[4].set_xticklabels(['Region 0', 'Region 1', 'Region 2'])\n",
    "axs[4].set_ylabel('Average Validation Volume')\n",
    "axs[4].set_title('Average Validation Volume for each Region')\n",
    "\n",
    "plt.tight_layout()\n",
    "plt.show()"
   ]
  },
  {
   "cell_type": "markdown",
   "metadata": {},
   "source": [
    "**1. MSE chart** (Mean Squared Error):\n",
    "\n",
    "- The MSE measures the average of the squared errors between predicted values and actual values.\n",
    "- In this case, the graph shows the MSE for each region, represented by bars.\n",
    "- The lower the MSE value, the closer the predicted values are to the actual values.\n",
    "- We can use this chart to compare forecast accuracy across different regions.\n",
    "\n",
    "\n",
    "**two. RMSE** chart (Root Mean Squared Error):\n",
    "\n",
    "- The RMSE is the square root of the MSE and represents the standard deviation of the errors.\n",
    "- Like the MSE, the graph shows the RMSE for each region.\n",
    "- The lower the RMSE value, the more accurate the model predictions are.\n",
    "- This chart helps us visualize the dispersion of errors and compare the quality of forecasts across regions.\n",
    "\n",
    "\n",
    "**3. R2 Score Chart**:\n",
    "\n",
    "- The R2 Score measures the proportion of variance of predicted values in relation to actual values.\n",
    "- The value ranges from 0 to 1, where 1 indicates a perfect fit of the model to the data.\n",
    "- In this graph, each region is represented by a bar.\n",
    "- The closer the R2 Score value is to 1, the better the model fits the data.\n",
    "- We can use this chart to compare the predictive ability across regions.\n",
    "\n",
    "\n",
    "**4. Predicted Average Volume Graph**:\n",
    "\n",
    "- This graph shows the average predicted volume for each region.\n",
    "- Each region is represented by a different color bar.\n",
    "- The predicted average volume is the estimate of the volume of bookings made by the model.\n",
    "- Comparing predicted values across regions can help us identify which regions have higher or lower forecasts.\n",
    "\n",
    "\n",
    "**5. Average Validation Volume Chart**:\n",
    "\n",
    "- This graph represents the average volume of the validation set for each region.\n",
    "- Each region is represented by a different color bar.\n",
    "- The average validation volume is the actual average value of the volume of reservations in the validation data.\n",
    "- Comparing average validation volumes across regions allows us to identify regions with higher or lower volumes."
   ]
  },
  {
   "cell_type": "markdown",
   "metadata": {},
   "source": [
    "### Analysis of results"
   ]
  },
  {
   "cell_type": "markdown",
   "metadata": {},
   "source": [
    "After evaluating the Linear Regression models in each of the three regions, we can analyze the results obtained.\n",
    "\n",
    "In Region 0, the model presented an MSE (Mean Squared Error) of 1425.56 and an RMSE (Root Mean Squared Error) of 37.76. The R2 Score was 0.27. This indicates that the model performed moderately well in predicting the volume of bookings in this region. The average predicted volume was 92.40, while the average volume of the validation set was 92.33.\n",
    "\n",
    "In Region 1, the model performed very well, with an MSE of 0.79 and an RMSE of 0.89. The R2 Score was 0.99, indicating that the model fitted the data very well and had a high ability to predict the volume of bookings. The average predicted volume was 68.71, while the average volume of the validation set was 68.73.\n",
    "\n",
    "In Region 2, the model presented an MSE of 1611.69 and an RMSE of 40.15. The R2 Score was 0.20. These values indicate a performance similar to that of Region 0, that is, the model had a moderate performance in predicting the volume of reservations in this region. The average predicted volume was 94.77, while the average volume of the validation set was 95.15.\n",
    "\n",
    "Based on these updated results, we can confirm that the Linear Regression model had the best performance in Region 1, showing a very high ability to predict the volume of bookings. Therefore, it is recommended to choose this region for the development of oil wells, as it is where we can expect more accurate and reliable results in terms of estimating reserves."
   ]
  },
  {
   "cell_type": "markdown",
   "metadata": {},
   "source": [
    "## Profit calculation"
   ]
  },
  {
   "cell_type": "markdown",
   "metadata": {},
   "source": [
    "### Storage of values needed for calculations"
   ]
  },
  {
   "cell_type": "markdown",
   "metadata": {},
   "source": [
    "Before calculating the profit, we need to store the necessary values for calculations. Let's consider the following values:\n",
    "\n",
    "The total number of points analyzed is 500.\n",
    "We will select the top 200 points to calculate the profit.\n",
    "The budget available for the development of the top 200 oil wells is $100 million.\n",
    "Each unit of the product (barrel of oil) has a revenue of 4,500 dollars.\n",
    "Let's store these values to use them later in the calculations."
   ]
  },
  {
   "cell_type": "code",
   "execution_count": 167,
   "metadata": {},
   "outputs": [],
   "source": [
    "# 500 oil wells analyzed\n",
    "analyzed_oilwells = 500\n",
    "\n",
    "# 200 best oil wells\n",
    "best_oilwells = 200\n",
    "\n",
    "# Budget of 100 million dollars\n",
    "budget = 100000000\n",
    "\n",
    "# one unit of the product is 4,500 dollars\n",
    "unit_revenue = 4500"
   ]
  },
  {
   "cell_type": "markdown",
   "metadata": {},
   "source": [
    "### Verification of the volume of reserves needed to develop a new well"
   ]
  },
  {
   "cell_type": "markdown",
   "metadata": {},
   "source": [
    "To determine the volume of oil needed to recover the cost of developing a new well, we will divide the total cost by the number of wells. Considering the total cost of 100 million dollars and the top 200 wells, we can calculate the cost of each well as:"
   ]
  },
  {
   "cell_type": "code",
   "execution_count": 168,
   "metadata": {},
   "outputs": [
    {
     "name": "stdout",
     "output_type": "stream",
     "text": [
      "500000.0\n"
     ]
    }
   ],
   "source": [
    "cost = budget / best_oilwells\n",
    "print(cost)"
   ]
  },
  {
   "cell_type": "markdown",
   "metadata": {},
   "source": [
    "Next, we will calculate the minimum volume required for each well, dividing the cost of the well by the revenue per unit of product:"
   ]
  },
  {
   "cell_type": "code",
   "execution_count": 169,
   "metadata": {},
   "outputs": [
    {
     "name": "stdout",
     "output_type": "stream",
     "text": [
      "111.11111111111111\n"
     ]
    }
   ],
   "source": [
    "min_volume = cost / unit_revenue\n",
    "print(min_volume)"
   ]
  },
  {
   "cell_type": "markdown",
   "metadata": {},
   "source": [
    "This value represents the minimum amount of barrels of oil that each well needs to produce to cover the cost of development."
   ]
  },
  {
   "cell_type": "markdown",
   "metadata": {},
   "source": [
    "### Conclusions on preparing for profit calculation"
   ]
  },
  {
   "cell_type": "markdown",
   "metadata": {},
   "source": [
    "Let's make a comparative chart of the average volume per region, where a horizontal line represents the minimum volume needed to cover the cost of developing a well (111.11 barrels)."
   ]
  },
  {
   "cell_type": "code",
   "execution_count": 170,
   "metadata": {},
   "outputs": [
    {
     "data": {
      "image/png": "[encoded data removed]",
      "text/plain": [
       "<Figure size 576x432 with 1 Axes>"
      ]
     },
     "metadata": {
      "needs_background": "light"
     },
     "output_type": "display_data"
    }
   ],
   "source": [
    "# Average volume values per region\n",
    "average_volume_region_0 = df0[\"product\"].mean()\n",
    "average_volume_region_1 = df1[\"product\"].mean()\n",
    "average_volume_region_2 = df2[\"product\"].mean()\n",
    "\n",
    "# Colors of regions\n",
    "colors = ['#FF7F0E', '#1F77B4', '#FFDC00']\n",
    "\n",
    "# Graph plotting\n",
    "plt.figure(figsize=(8, 6))\n",
    "plt.bar([\"Region 0\", \"Region 1\", \"Region 2\"], [average_volume_region_0, average_volume_region_1, average_volume_region_2], color=colors)\n",
    "plt.axhline(y=min_volume, color='green', linestyle='--', label='Minimum Volume')\n",
    "plt.xlabel('Region')\n",
    "plt.ylabel('Average Volume')\n",
    "plt.title('Average Reserve Volume by Region')\n",
    "plt.legend()\n",
    "plt.show()"
   ]
  },
  {
   "cell_type": "markdown",
   "metadata": {},
   "source": [
    "The comparison chart shows average volume by region, with each bar representing a specific region. The red horizontal line indicates the minimum amount of volume required (111.11 barrels) to cover the cost of developing a well.\n",
    "\n",
    "Looking at the graph, we can see that all regions have volume averages below the minimum required value. This means that, at least for the moment, investment in oil exploration in these regions will result in losses, since the average volume of reserves is not enough to cover the cost of developing a new well."
   ]
  },
  {
   "cell_type": "markdown",
   "metadata": {},
   "source": [
    "## Profit calculation and selection of oil wells"
   ]
  },
  {
   "cell_type": "markdown",
   "metadata": {},
   "source": [
    "In this section we will create a function to calculate the revenue generated by the top 200 oil wells in each region."
   ]
  },
  {
   "cell_type": "code",
   "execution_count": 171,
   "metadata": {},
   "outputs": [],
   "source": [
    "# Creating the 'revenue' function that calculates the revenue generated by the best selected oil wells\n",
    "def revenue(df_target, predictions):\n",
    "\n",
    "    # Turning the array-like 'predictions' into a pandas Series to run sort_values\n",
    "    predictions = pd.Series(predictions)\n",
    "\n",
    "    # Defining a reference index on the DataFrame 'df_target' so that it can be aligned with 'predictions'\n",
    "    df_target = df_target.reset_index(drop=True)\n",
    "\n",
    "    # Sorting the 'predictions' series in descending order, i.e. the highest values appear first\n",
    "    predictions_sorted = predictions.sort_values(ascending=False)\n",
    "\n",
    "    # Selecting the top 200 wells from the target list\n",
    "    selected_targets = df_target[predictions_sorted.index][:best_oilwells]\n",
    "\n",
    "    # Calculating the revenue generated by exploring the top 200 wells and subtracting the costs of developing those wells\n",
    "    revenue_generated = (selected_targets.sum() * unit_revenue) - (cost * best_oilwells)\n",
    "\n",
    "    return revenue_generated"
   ]
  },
  {
   "cell_type": "markdown",
   "metadata": {},
   "source": [
    "Now let's call the function for each region separately, passing the corresponding target DataFrame and region-specific predictions."
   ]
  },
  {
   "cell_type": "code",
   "execution_count": 172,
   "metadata": {},
   "outputs": [
    {
     "name": "stdout",
     "output_type": "stream",
     "text": [
      "Revenue generated in Region 0: 33591411.14462179\n",
      "Revenue generated in Region 1: 24150866.966815114\n",
      "Revenue generated in Region 2: 25985717.59374112\n"
     ]
    }
   ],
   "source": [
    "# Applying the 'revenue' function for each region\n",
    "revenue_region_0 = revenue(df0_target_valid, predictions_lr_0)\n",
    "revenue_region_1 = revenue(df1_target_valid, predictions_lr_1)\n",
    "revenue_region_2 = revenue(df2_target_valid, predictions_lr_2)\n",
    "\n",
    "# Printing the revenue generated in each region\n",
    "print(\"Revenue generated in Region 0:\", revenue_region_0)\n",
    "print(\"Revenue generated in Region 1:\", revenue_region_1)\n",
    "print(\"Revenue generated in Region 2:\", revenue_region_2)"
   ]
  },
  {
   "cell_type": "markdown",
   "metadata": {},
   "source": [
    "The revenue values generated in the different regions indicate the profit potential that can be obtained from the exploration of the best oil wells selected in each region.\n",
    "\n",
    "- In Region 0, the revenue generated is approximately 33,591,411.14 dollars.\n",
    "- In Region 1, revenue generated is approximately 24,150,866.97 dollars.\n",
    "- In Region 2, revenue generated is approximately 25,985,717.59 dollars.\n",
    "\n",
    "These values represent the estimate of revenue that can be obtained from the production and sale of oil extracted from the 200 best wells in each region, considering the cost of developing these wells. The greater the revenue generated, the greater the profit potential in that region.\n",
    "\n",
    "Therefore, according to the top 200 wells in each region, these values tell us that **Region 0 has the highest profit potential**, followed by Region 2 and then Region 1. It is important to consider these numbers when making decisions on oil well development as they provide insight into profit opportunities in each region."
   ]
  },
  {
   "cell_type": "markdown",
   "metadata": {},
   "source": [
    "## Risk and profit calculation for each region"
   ]
  },
  {
   "cell_type": "markdown",
   "metadata": {},
   "source": [
    "In the following code, we will define the 'boot_revenue' function to calculate the revenue for each of the three regions. This function will generate random subsets of data from the target DataFrame and predictions, calculate the revenue for each subset, and store the results in different variables for each region.\n",
    "\n",
    "Furthermore, we will use the 'quantile' and 'risk' functions to calculate the profit confidence interval and the loss risk, respectively. These functions will operate on lists of recipes and return the desired quantiles and negative revenue ratio.\n",
    "\n",
    "Next, we'll create a list called 'region_data' that will contain the data for each region, including the name of the region, revenue values, confidence interval, and loss risk. Finally, we'll use a loop to print the results for each region, displaying the average profit, 95% confidence interval, and risk of loss.\n",
    "\n",
    "These steps will make it possible to analyze and compare the financial performance of each region, assessing the potential for profit and the associated risk."
   ]
  },
  {
   "cell_type": "code",
   "execution_count": 173,
   "metadata": {
    "scrolled": true
   },
   "outputs": [
    {
     "name": "stdout",
     "output_type": "stream",
     "text": [
      "Region 0\n",
      "Average profit: 4062787.8342441902\n",
      "95% confidence interval: [-1177421.36494869  9117370.50751404]\n",
      "Risk of harm: 0.067\n",
      "\n",
      "Region 1\n",
      "Average profit: 4326241.318131374\n",
      "95% confidence interval: [ 168461.74932431 8159725.26285752]\n",
      "Risk of harm: 0.019\n",
      "\n",
      "Region 2\n",
      "Average profit: 3773621.924229164\n",
      "95% confidence interval: [-1707804.17705727  9017721.31386445]\n",
      "Risk of harm: 0.074\n",
      "\n"
     ]
    }
   ],
   "source": [
    "# Defining the 'boot_revenue' function\n",
    "def boot_revenue(df_target, predictions):\n",
    "\n",
    "     # Resetting the df_target table index to avoid conflicts with the predictions index\n",
    "     df_target = df_target.reset_index(drop=True)\n",
    "\n",
    "     # Defining a random state to generate random data subsets\n",
    "     state = np.random.RandomState(12345)\n",
    "\n",
    "     # Creating an empty list to store the recipe values\n",
    "     values = []\n",
    "\n",
    "     # Running the 'revenue' function for 1000 random subsets\n",
    "     for i in range(1000):\n",
    "\n",
    "         # Randomly selecting the correct number of samples with DataFrame override df_target\n",
    "         df_subsample = df_target.sample(n=analyzed_oilwells, replace=True, random_state=state)\n",
    "\n",
    "         # Selecting the predictions corresponding to the selected samples above\n",
    "         predictions_subsample = predictions[df_subsample.index]\n",
    "\n",
    "         # Calculating the recipe for the selected samples\n",
    "         revenue_value = revenue(df_subsample, predictions_subsample)\n",
    "\n",
    "         # Adding the revenue value to the 'values' list\n",
    "         values.append(revenue_value)\n",
    "\n",
    "     # Return the 'values' list as a pd.Series object\n",
    "     return pd.Series(values)\n",
    "\n",
    "# Using the function to calculate the revenue for each of the 3 regions using the 'boot_revenue' function and storing the results in different variables\n",
    "revenue_region0 = boot_revenue(df0_target_valid, predictions_lr_0)\n",
    "revenue_region1 = boot_revenue(df1_target_valid, predictions_lr_1)\n",
    "revenue_region2 = boot_revenue(df2_target_valid, predictions_lr_2)\n",
    "\n",
    "# Function to calculate the 2.5% and 97.5% quantiles of a recipe list\n",
    "def quantile(revenues):\n",
    "     return np.quantile(revenues, [0.025, 0.975])\n",
    "\n",
    "# Function to calculate the proportion of negative recipes in a list of recipes\n",
    "def risk(revenues):\n",
    "     return np.mean(revenues < 0)\n",
    "\n",
    "# Using the 'quantile' function to calculate the profit confidence interval for each region\n",
    "confidence_interval_region0 = quantile(revenue_region0)\n",
    "confidence_interval_region1 = quantile(revenue_region1)\n",
    "confidence_interval_region2 = quantile(revenue_region2)\n",
    "\n",
    "# Using the 'risk' function to calculate the loss risk for each region\n",
    "risk_of_harm_region0 = risk(revenue_region0)\n",
    "risk_of_harm_region1 = risk(revenue_region1)\n",
    "risk_of_harm_region2 = risk(revenue_region2)\n",
    "\n",
    "# List of data for each region\n",
    "region_data = [\n",
    "     {\n",
    "         'name': 'Region 0',\n",
    "         'revenue': revenue_region0,\n",
    "         'confidence_interval': confidence_interval_region0,\n",
    "         'risk_of_harm': risk_of_harm_region0\n",
    "     },\n",
    "     {\n",
    "         'name': 'Region 1',\n",
    "         'revenue': revenue_region1,\n",
    "         'confidence_interval': confidence_interval_region1,\n",
    "         'risk_of_harm': risk_of_harm_region1\n",
    "     },\n",
    "     {\n",
    "         'name': 'Region 2',\n",
    "         'revenue': revenue_region2,\n",
    "         'confidence_interval': confidence_interval_region2,\n",
    "         'risk_of_harm': risk_of_harm_region2\n",
    "     },\n",
    "]\n",
    "\n",
    "# Loop to print the results of each region\n",
    "for data in region_data:\n",
    "     print(f'{data[\"name\"]}')\n",
    "     print(f'Average profit: {data[\"revenue\"].mean()}')\n",
    "     print(f'95% confidence interval: {data[\"confidence_interval\"]}')\n",
    "     print(f'Risk of harm: {data[\"risk_of_harm\"]}\\n')"
   ]
  },
  {
   "cell_type": "markdown",
   "metadata": {},
   "source": [
    "In our code, the **boot_revenue** function is responsible for bootstrapping and calculating the revenue for each region. Then, the **quantile** and **risk** functions are used to calculate the confidence interval and risk of loss, respectively.\n",
    "\n",
    "In the final loop, the results are printed for each region, showing the **mean profit**, the **95% confidence interval**, and the **loss risk**.\n",
    "\n",
    "We can consider that Region 1 has the highest average profit and the lowest risk of loss among the three regions analyzed. Therefore, we suggest that this region be considered for the development of oil wells, as it has a good potential for financial return and lower risk of loss."
   ]
  },
  {
   "cell_type": "markdown",
   "metadata": {},
   "source": [
    "## Conclusions"
   ]
  },
  {
   "cell_type": "markdown",
   "metadata": {},
   "source": [
    "Based on the analyzes carried out on the datasets of the three regions, we can reach the following intermediate conclusions:\n",
    "\n",
    "- In Region 0, the Linear Regression model performed moderately well in predicting the volume of bookings, with an estimated average profit of approximately 4.06 million USD, a 95% confidence interval between -1.18 million and 9.12 million USD, and a risk of loss of 6.7%.\n",
    "\n",
    "\n",
    "- In Region 1, the Linear Regression model performed very well in predicting the volume of bookings, with an estimated mean profit of approximately 4.32 million USD, a 95% confidence interval between 0.17 million and 8.16 million USD, and a risk of loss of 1.9%.\n",
    "\n",
    "\n",
    "- In Region 2, the Linear Regression model performed similarly to Region 0 in predicting the volume of bookings, with an estimated mean profit of approximately 3.77 million USD, a 95% confidence interval between -1.71 million and 9.02 million dollars, and a loss risk of 7.4%.\n",
    "\n",
    "\n",
    "Considering these intermediate conclusions, we can make the following conclusive indications for Oleobrás:\n",
    "\n",
    "\n",
    "1. Region 1 (Region 1) demonstrated the best performance in forecasting the volume of bookings, showing a higher estimated average profit and lower risk of loss compared to the other two regions.\n",
    "\n",
    "\n",
    "2. We recommend that Oleobrás concentrate its efforts and investments on exploring oil wells in Region 1, as it has a higher potential for profit and a lower risk of loss compared to the other regions.\n",
    "\n",
    "3. It is important to consider the results of profit, confidence interval and risk of loss calculations when making strategic decisions about oil well development. Region 1 presents a promising opportunity for Oleobrás to maximize its financial returns with less risk."
   ]
  }
 ],
 "metadata": {
  "kernelspec": {
   "display_name": "Python 3 (ipykernel)",
   "language": "python",
   "name": "python3"
  },
  "language_info": {
   "codemirror_mode": {
    "name": "ipython",
    "version": 3
   },
   "file_extension": ".py",
   "mimetype": "text/x-python",
   "name": "python",
   "nbconvert_exporter": "python",
   "pygments_lexer": "ipython3",
   "version": "3.9.5"
  },
  "toc": {
   "base_numbering": 1,
   "nav_menu": {},
   "number_sections": true,
   "sideBar": true,
   "skip_h1_title": true,
   "title_cell": "Table of Contents",
   "title_sidebar": "Contents",
   "toc_cell": false,
   "toc_position": {
    "height": "calc(100% - 180px)",
    "left": "10px",
    "top": "150px",
    "width": "292.475px"
   },
   "toc_section_display": true,
   "toc_window_display": false
  }
 },
 "nbformat": 4,
 "nbformat_minor": 2
}
